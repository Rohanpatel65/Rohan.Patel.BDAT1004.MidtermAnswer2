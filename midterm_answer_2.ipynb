{
 "cells": [
  {
   "cell_type": "markdown",
   "id": "2ea8d5c2-0c50-40e9-ada7-6008e585f3e6",
   "metadata": {},
   "source": [
    "\n",
    "# Question 2 \n",
    "\n",
    "Write a solution to find all dates' Id with higher temperatures compared to its previous dates (yesterday).\n",
    "\n",
    "Return the result table in any order.\n",
    "\n",
    "Please use the following input Weather table for your solution. To receive full marks you will need to create the database, create the table, insert the data below and execute the SQL query."
   ]
  },
  {
   "cell_type": "code",
   "execution_count": 4,
   "id": "308fe938-e8cc-4866-b8b3-eaf642ebe014",
   "metadata": {},
   "outputs": [
    {
     "name": "stdout",
     "output_type": "stream",
     "text": [
      "(2,)\n",
      "(4,)\n"
     ]
    }
   ],
   "source": [
    "import sqlite3\n",
    "\n",
    "sql_connection = sqlite3.connect('weather.db')\n",
    "sql_cursor = sql_connection.cursor()\n",
    "\n",
    "# Create Weather table\n",
    "sql_cursor.execute(\"\"\"\n",
    "    CREATE TABLE Weather (\n",
    "        id INT,\n",
    "        recordDate DATE,\n",
    "        temperature INT\n",
    "    )\n",
    "\"\"\")\n",
    "\n",
    "# insert the data\n",
    "sql_cursor.execute(\"\"\"\n",
    "    INSERT INTO Weather (id, recordDate, temperature)\n",
    "    VALUES (1, '2015-01-01', 10),\n",
    "           (2, '2015-01-02', 25),\n",
    "           (3, '2015-01-03', 20),\n",
    "           (4, '2015-01-04', 30)\n",
    "\"\"\")\n",
    "\n",
    "\n",
    "sql_connection.commit()\n",
    "\n",
    "sql_cursor.execute(\"\"\"\n",
    "    SELECT w1.id\n",
    "    FROM Weather w1\n",
    "    JOIN Weather w2 ON w1.recordDate = DATE(w2.recordDate, '+1 day')\n",
    "    WHERE w1.temperature > w2.temperature\n",
    "\"\"\")\n",
    "\n",
    "rows = sql_cursor.fetchall()\n",
    "for row in rows:\n",
    "    print(row)\n",
    "\n",
    "sql_connection.close()"
   ]
  },
  {
   "cell_type": "code",
   "execution_count": null,
   "id": "aca577f5-d304-49b8-a3c6-5d88443fe4a9",
   "metadata": {},
   "outputs": [],
   "source": []
  }
 ],
 "metadata": {
  "kernelspec": {
   "display_name": "Python 3 (ipykernel)",
   "language": "python",
   "name": "python3"
  },
  "language_info": {
   "codemirror_mode": {
    "name": "ipython",
    "version": 3
   },
   "file_extension": ".py",
   "mimetype": "text/x-python",
   "name": "python",
   "nbconvert_exporter": "python",
   "pygments_lexer": "ipython3",
   "version": "3.12.3"
  }
 },
 "nbformat": 4,
 "nbformat_minor": 5
}
